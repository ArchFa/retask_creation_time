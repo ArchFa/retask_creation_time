{
 "cells": [
  {
   "cell_type": "code",
   "execution_count": 6,
   "metadata": {},
   "outputs": [],
   "source": [
    "import pandas as pd\n",
    "import streamlit as st\n",
    "from collections import Counter"
   ]
  },
  {
   "cell_type": "markdown",
   "metadata": {},
   "source": [
    "# Обзор данных"
   ]
  },
  {
   "cell_type": "code",
   "execution_count": 5,
   "metadata": {},
   "outputs": [],
   "source": [
    "# uploaded_file = st.file_uploader(\"Выбирете файл\", \n",
    "# help=\"Здесь может быть подсказка'\")\n",
    "\n",
    "\n",
    "# if uploaded_file is not None:\n",
    "#      df = pd.read_csv(uploaded_file, sep='|')\n",
    "#      df.columns = [\n",
    "#         'task_id',\n",
    "#         'task_name',\n",
    "#         'status',\n",
    "#         'communication_method',\n",
    "#         'date_creation',\n",
    "#         'customer_phone',\n",
    "#         'plathorm']\n",
    "\n",
    "#      # изменение типов\n",
    "#      df['customer_phone'] = df['customer_phone'].astype(str)\n",
    "#      df['task_id'] = df['task_id'].astype(int)\n",
    "#      df['date_creation'] = pd.to_datetime(df['date_creation'], format='%Y-%m-%dT%H:%M:%S')\n",
    "\n",
    "#      # удвление тестовых номеров, которые начинаются на 520...\n",
    "#      df['phone'] = df.customer_phone.str[:3]\n",
    "#      df = df[~df.phone.str.contains('520')]\n",
    "\n",
    "#      # удаление пропусков, которые появляются из за особенностей выгрузки\n",
    "#      df = df.dropna()\n",
    "#      file_container = st.expander(\"Check your uploaded .csv\")   \n",
    "#      st.write(df)\n",
    "# else:\n",
    "#     st.info(\n",
    "#         f\"\"\"\n",
    "#              👆 Загрузите файл с расширением .csv\n",
    "             \n",
    "#              В файле должны стого содержаться следующие столбцы: id пользователя, id задачи, платформа, роль пользователя\n",
    "#              \"\"\"\n",
    "#     )\n",
    "#     st.stop()"
   ]
  },
  {
   "cell_type": "code",
   "execution_count": 20,
   "metadata": {},
   "outputs": [],
   "source": [
    "st.write(\"\"\"\n",
    "**Поля датафрейма:**\n",
    "- task_id - уникальный идентификатор задачи;\n",
    "- task_name - название задачи;\n",
    "- status - текущий статс задачи;\n",
    "- communication_method - выбранный способ связи в приложении;\n",
    "- date_creation - дата создания задачи в формате ГГГГ-ММ-ДД\n",
    "- customer_phone - будет выступать в роли id пользователя\"\"\")"
   ]
  },
  {
   "cell_type": "code",
   "execution_count": 19,
   "metadata": {},
   "outputs": [
    {
     "name": "stdout",
     "output_type": "stream",
     "text": [
      "<class 'pandas.core.frame.DataFrame'>\n",
      "Int64Index: 72775 entries, 0 to 72870\n",
      "Data columns (total 8 columns):\n",
      " #   Column                Non-Null Count  Dtype         \n",
      "---  ------                --------------  -----         \n",
      " 0   task_id               72775 non-null  int64         \n",
      " 1   task_name             72775 non-null  object        \n",
      " 2   status                72775 non-null  object        \n",
      " 3   communication_method  72775 non-null  object        \n",
      " 4   date_creation         72775 non-null  datetime64[ns]\n",
      " 5   customer_phone        72775 non-null  object        \n",
      " 6   plathorm              72775 non-null  object        \n",
      " 7   phone                 72775 non-null  object        \n",
      "dtypes: datetime64[ns](1), int64(1), object(6)\n",
      "memory usage: 5.0+ MB\n"
     ]
    },
    {
     "data": {
      "text/html": [
       "<div>\n",
       "<style scoped>\n",
       "    .dataframe tbody tr th:only-of-type {\n",
       "        vertical-align: middle;\n",
       "    }\n",
       "\n",
       "    .dataframe tbody tr th {\n",
       "        vertical-align: top;\n",
       "    }\n",
       "\n",
       "    .dataframe thead th {\n",
       "        text-align: right;\n",
       "    }\n",
       "</style>\n",
       "<table border=\"1\" class=\"dataframe\">\n",
       "  <thead>\n",
       "    <tr style=\"text-align: right;\">\n",
       "      <th></th>\n",
       "      <th>task_id</th>\n",
       "      <th>task_name</th>\n",
       "      <th>status</th>\n",
       "      <th>communication_method</th>\n",
       "      <th>date_creation</th>\n",
       "      <th>customer_phone</th>\n",
       "      <th>plathorm</th>\n",
       "      <th>phone</th>\n",
       "    </tr>\n",
       "  </thead>\n",
       "  <tbody>\n",
       "    <tr>\n",
       "      <th>19023</th>\n",
       "      <td>98176</td>\n",
       "      <td>herrería</td>\n",
       "      <td>archived</td>\n",
       "      <td>через телефон</td>\n",
       "      <td>2021-12-24 01:20:19.504459</td>\n",
       "      <td>528125715840</td>\n",
       "      <td>admins</td>\n",
       "      <td>528</td>\n",
       "    </tr>\n",
       "    <tr>\n",
       "      <th>72405</th>\n",
       "      <td>44461</td>\n",
       "      <td>MUDANZA</td>\n",
       "      <td>archived</td>\n",
       "      <td>через телефон</td>\n",
       "      <td>2021-09-02 07:40:59.338667</td>\n",
       "      <td>528444050516</td>\n",
       "      <td>admins</td>\n",
       "      <td>528</td>\n",
       "    </tr>\n",
       "  </tbody>\n",
       "</table>\n",
       "</div>"
      ],
      "text/plain": [
       "       task_id task_name    status communication_method  \\\n",
       "19023    98176  herrería  archived        через телефон   \n",
       "72405    44461   MUDANZA  archived        через телефон   \n",
       "\n",
       "                   date_creation customer_phone plathorm phone  \n",
       "19023 2021-12-24 01:20:19.504459   528125715840   admins   528  \n",
       "72405 2021-09-02 07:40:59.338667   528444050516   admins   528  "
      ]
     },
     "execution_count": 19,
     "metadata": {},
     "output_type": "execute_result"
    }
   ],
   "source": [
    "df = pd.read_csv('/Users/arturfattahov/Downloads/task_september_february.csv', sep='|')\n",
    "\n",
    "df.columns = [\n",
    "        'task_id',\n",
    "        'task_name',\n",
    "        'status',\n",
    "        'communication_method',\n",
    "        'date_creation',\n",
    "        'customer_phone',\n",
    "        'plathorm'\n",
    "]\n",
    "\n",
    "# изменение типов\n",
    "df['customer_phone'] = df['customer_phone'].astype(str)\n",
    "df['task_id'] = df['task_id'].astype(int)\n",
    "df['date_creation'] = pd.to_datetime(df['date_creation'], format='%Y-%m-%dT%H:%M:%S')\n",
    "\n",
    "# удвление тестовых номеров, которые начинаются на 520...\n",
    "df['phone'] = df.customer_phone.str[:3]\n",
    "df = df[~df.phone.str.contains('520')]\n",
    "\n",
    "# удаление пропусков, которые появляются из за особенностей выгрузки\n",
    "df = df.dropna()\n",
    "\n",
    "df.info()\n",
    "df.sample(2)"
   ]
  },
  {
   "cell_type": "markdown",
   "metadata": {},
   "source": [
    "# Обработка данных"
   ]
  },
  {
   "cell_type": "code",
   "execution_count": 21,
   "metadata": {},
   "outputs": [],
   "source": [
    "df = df.sort_values(by=['customer_phone', 'date_creation'])"
   ]
  },
  {
   "cell_type": "code",
   "execution_count": 22,
   "metadata": {},
   "outputs": [],
   "source": [
    "df['diff'] = df.groupby('customer_phone')['date_creation'].diff()"
   ]
  },
  {
   "cell_type": "code",
   "execution_count": null,
   "metadata": {},
   "outputs": [],
   "source": []
  }
 ],
 "metadata": {
  "interpreter": {
   "hash": "aee8b7b246df8f9039afb4144a1f6fd8d2ca17a180786b69acc140d282b71a49"
  },
  "kernelspec": {
   "display_name": "Python 3.10.4 64-bit",
   "language": "python",
   "name": "python3"
  },
  "language_info": {
   "codemirror_mode": {
    "name": "ipython",
    "version": 3
   },
   "file_extension": ".py",
   "mimetype": "text/x-python",
   "name": "python",
   "nbconvert_exporter": "python",
   "pygments_lexer": "ipython3",
   "version": "3.10.4"
  },
  "orig_nbformat": 4
 },
 "nbformat": 4,
 "nbformat_minor": 2
}
