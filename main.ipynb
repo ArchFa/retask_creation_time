{
 "cells": [
  {
   "cell_type": "code",
   "execution_count": 12,
   "metadata": {},
   "outputs": [],
   "source": [
    "import pandas as pd\n",
    "import streamlit as st\n",
    "from collections import Counter\n",
    "from PIL import Image"
   ]
  },
  {
   "cell_type": "markdown",
   "metadata": {},
   "source": [
    "# Обзор данных"
   ]
  },
  {
   "cell_type": "code",
   "execution_count": 14,
   "metadata": {},
   "outputs": [
    {
     "ename": "FileNotFoundError",
     "evalue": "[Errno 2] No such file or directory: './logo_ugry.png'",
     "output_type": "error",
     "traceback": [
      "\u001b[0;31m---------------------------------------------------------------------------\u001b[0m",
      "\u001b[0;31mFileNotFoundError\u001b[0m                         Traceback (most recent call last)",
      "\u001b[1;32m/Users/arturfattahov/retask_creation_time/main.ipynb Cell 3'\u001b[0m in \u001b[0;36m<module>\u001b[0;34m\u001b[0m\n\u001b[0;32m----> <a href='vscode-notebook-cell:/Users/arturfattahov/retask_creation_time/main.ipynb#ch0000058?line=0'>1</a>\u001b[0m im \u001b[39m=\u001b[39m Image\u001b[39m.\u001b[39;49mopen(\u001b[39m\"\u001b[39;49m\u001b[39m./logo_ugry.png\u001b[39;49m\u001b[39m\"\u001b[39;49m)\n\u001b[1;32m      <a href='vscode-notebook-cell:/Users/arturfattahov/retask_creation_time/main.ipynb#ch0000058?line=1'>2</a>\u001b[0m st\u001b[39m.\u001b[39mset_page_config(page_title\u001b[39m=\u001b[39m\u001b[39m\"\u001b[39m\u001b[39mКоличество созданных задач\u001b[39m\u001b[39m\"\u001b[39m, page_icon\u001b[39m=\u001b[39mim)\n",
      "File \u001b[0;32m/Library/Frameworks/Python.framework/Versions/3.10/lib/python3.10/site-packages/PIL/Image.py:2953\u001b[0m, in \u001b[0;36mopen\u001b[0;34m(fp, mode, formats)\u001b[0m\n\u001b[1;32m   <a href='file:///Library/Frameworks/Python.framework/Versions/3.10/lib/python3.10/site-packages/PIL/Image.py?line=2949'>2950</a>\u001b[0m     filename \u001b[39m=\u001b[39m fp\n\u001b[1;32m   <a href='file:///Library/Frameworks/Python.framework/Versions/3.10/lib/python3.10/site-packages/PIL/Image.py?line=2951'>2952</a>\u001b[0m \u001b[39mif\u001b[39;00m filename:\n\u001b[0;32m-> <a href='file:///Library/Frameworks/Python.framework/Versions/3.10/lib/python3.10/site-packages/PIL/Image.py?line=2952'>2953</a>\u001b[0m     fp \u001b[39m=\u001b[39m builtins\u001b[39m.\u001b[39;49mopen(filename, \u001b[39m\"\u001b[39;49m\u001b[39mrb\u001b[39;49m\u001b[39m\"\u001b[39;49m)\n\u001b[1;32m   <a href='file:///Library/Frameworks/Python.framework/Versions/3.10/lib/python3.10/site-packages/PIL/Image.py?line=2953'>2954</a>\u001b[0m     exclusive_fp \u001b[39m=\u001b[39m \u001b[39mTrue\u001b[39;00m\n\u001b[1;32m   <a href='file:///Library/Frameworks/Python.framework/Versions/3.10/lib/python3.10/site-packages/PIL/Image.py?line=2955'>2956</a>\u001b[0m \u001b[39mtry\u001b[39;00m:\n",
      "\u001b[0;31mFileNotFoundError\u001b[0m: [Errno 2] No such file or directory: './logo_ugry.png'"
     ]
    }
   ],
   "source": [
    "im = Image.open(\"./logo_ugry.png\")\n",
    "st.set_page_config(page_title=\"Количество созданных задач\", page_icon=im)\n"
   ]
  },
  {
   "cell_type": "code",
   "execution_count": 10,
   "metadata": {},
   "outputs": [
    {
     "ename": "StopException",
     "evalue": "",
     "output_type": "error",
     "traceback": [
      "\u001b[0;31m---------------------------------------------------------------------------\u001b[0m",
      "\u001b[0;31mStopException\u001b[0m                             Traceback (most recent call last)",
      "\u001b[1;32m/Users/arturfattahov/retask_creation_time/main.ipynb Cell 3'\u001b[0m in \u001b[0;36m<module>\u001b[0;34m\u001b[0m\n\u001b[1;32m     <a href='vscode-notebook-cell:/Users/arturfattahov/retask_creation_time/main.ipynb#ch0000002?line=32'>33</a>\u001b[0m \u001b[39melse\u001b[39;00m:\n\u001b[1;32m     <a href='vscode-notebook-cell:/Users/arturfattahov/retask_creation_time/main.ipynb#ch0000002?line=33'>34</a>\u001b[0m     st\u001b[39m.\u001b[39minfo(\n\u001b[1;32m     <a href='vscode-notebook-cell:/Users/arturfattahov/retask_creation_time/main.ipynb#ch0000002?line=34'>35</a>\u001b[0m         \u001b[39mf\u001b[39m\u001b[39m\"\"\"\u001b[39m\n\u001b[1;32m     <a href='vscode-notebook-cell:/Users/arturfattahov/retask_creation_time/main.ipynb#ch0000002?line=35'>36</a>\u001b[0m \u001b[39m             👆 Загрузите файл с расширением .csv\u001b[39m\n\u001b[0;32m   (...)\u001b[0m\n\u001b[1;32m     <a href='vscode-notebook-cell:/Users/arturfattahov/retask_creation_time/main.ipynb#ch0000002?line=42'>43</a>\u001b[0m \u001b[39m             \u001b[39m\u001b[39m\"\"\"\u001b[39m\n\u001b[1;32m     <a href='vscode-notebook-cell:/Users/arturfattahov/retask_creation_time/main.ipynb#ch0000002?line=43'>44</a>\u001b[0m     )\n\u001b[0;32m---> <a href='vscode-notebook-cell:/Users/arturfattahov/retask_creation_time/main.ipynb#ch0000002?line=44'>45</a>\u001b[0m     st\u001b[39m.\u001b[39;49mstop()\n",
      "File \u001b[0;32m/Library/Frameworks/Python.framework/Versions/3.10/lib/python3.10/site-packages/streamlit/__init__.py:492\u001b[0m, in \u001b[0;36mstop\u001b[0;34m()\u001b[0m\n\u001b[1;32m    <a href='file:///Library/Frameworks/Python.framework/Versions/3.10/lib/python3.10/site-packages/streamlit/__init__.py?line=474'>475</a>\u001b[0m \u001b[39mdef\u001b[39;00m \u001b[39mstop\u001b[39m() \u001b[39m-\u001b[39m\u001b[39m>\u001b[39m NoReturn:\n\u001b[1;32m    <a href='file:///Library/Frameworks/Python.framework/Versions/3.10/lib/python3.10/site-packages/streamlit/__init__.py?line=475'>476</a>\u001b[0m     \u001b[39m\"\"\"Stops execution immediately.\u001b[39;00m\n\u001b[1;32m    <a href='file:///Library/Frameworks/Python.framework/Versions/3.10/lib/python3.10/site-packages/streamlit/__init__.py?line=476'>477</a>\u001b[0m \n\u001b[1;32m    <a href='file:///Library/Frameworks/Python.framework/Versions/3.10/lib/python3.10/site-packages/streamlit/__init__.py?line=477'>478</a>\u001b[0m \u001b[39m    Streamlit will not run any statements after `st.stop()`.\u001b[39;00m\n\u001b[0;32m   (...)\u001b[0m\n\u001b[1;32m    <a href='file:///Library/Frameworks/Python.framework/Versions/3.10/lib/python3.10/site-packages/streamlit/__init__.py?line=489'>490</a>\u001b[0m \n\u001b[1;32m    <a href='file:///Library/Frameworks/Python.framework/Versions/3.10/lib/python3.10/site-packages/streamlit/__init__.py?line=490'>491</a>\u001b[0m \u001b[39m    \"\"\"\u001b[39;00m\n\u001b[0;32m--> <a href='file:///Library/Frameworks/Python.framework/Versions/3.10/lib/python3.10/site-packages/streamlit/__init__.py?line=491'>492</a>\u001b[0m     \u001b[39mraise\u001b[39;00m StopException()\n",
      "\u001b[0;31mStopException\u001b[0m: "
     ]
    }
   ],
   "source": [
    "st.title(\"Количество созданных задач\")\n",
    "st.write(\"Время создания повторной задачи, количетво повторных задач\")\n",
    "uploaded_file = st.file_uploader(\"Выбирете файл\")\n",
    "\n",
    "use_example_file = st.checkbox(\n",
    "    \"Использовать пример выгрузки\", False, help=\"Будет использована старая выгрузка\"\n",
    ")\n",
    "\n",
    "\n",
    "if use_example_file:\n",
    "    uploaded_file = \"task_september_february.csv\"\n",
    "\n",
    "\n",
    "if uploaded_file is not None:\n",
    "     df = pd.read_csv(uploaded_file, sep='|')\n",
    "     df.columns = [\n",
    "        'task_id',\n",
    "        'task_name',\n",
    "        'status',\n",
    "        'communication_method',\n",
    "        'date_creation',\n",
    "        'customer_phone',\n",
    "        'plathorm'\n",
    "        ]\n",
    "\n",
    "     # изменение типов\n",
    "     df['customer_phone'] = df['customer_phone'].astype(str)\n",
    "     df['task_id'] = df['task_id'].astype(int)\n",
    "     df['date_creation'] = pd.to_datetime(df['date_creation'], format='%Y-%m-%dT%H:%M:%S')\n",
    "\n",
    "     # удвление тестовых номеров, которые начинаются на 520...\n",
    "     df['phone'] = df.customer_phone.str[:3]\n",
    "     df = df[~df.phone.str.contains('520')]\n",
    "\n",
    "     # удаление пропусков, которые появляются из за особенностей выгрузки\n",
    "     df = df.dropna()\n",
    "     st.markdown(\"### Обзор выгрузки\")\n",
    "     st.dataframe(df.head())\n",
    "\n",
    "\n",
    "st.info(\n",
    "   f\"\"\"\n",
    "        👆 Загрузите файл с расширением csv. В файле должны стого содержаться следующие столбцы:\n",
    "        - id задачи, название задачи\n",
    "        - текущий статус задачи\n",
    "        - выбранный способ связи в приложении\n",
    "        - дата создания задачи в формате ГГГГ-ММ-ДД\n",
    "        - телефон заказчика\n",
    "        \"\"\"\n",
    ")\n",
    "\n",
    "if not uploaded_file or not use_example_file:\n",
    "        st.stop()"
   ]
  },
  {
   "cell_type": "code",
   "execution_count": null,
   "metadata": {},
   "outputs": [
    {
     "name": "stderr",
     "output_type": "stream",
     "text": [
      "2022-04-25 12:10:37.818 \n",
      "  \u001b[33m\u001b[1mWarning:\u001b[0m to view this Streamlit app on a browser, run it with the following\n",
      "  command:\n",
      "\n",
      "    streamlit run /Users/arturfattahov/Library/Python/3.10/lib/python/site-packages/ipykernel_launcher.py [ARGUMENTS]\n"
     ]
    }
   ],
   "source": [
    "st.write(\"\"\"\n",
    "**Поля датафрейма:**\n",
    "- task_id - уникальный идентификатор задачи;\n",
    "- task_name - название задачи;\n",
    "- status - текущий статус задачи;\n",
    "- communication_method - выбранный способ связи в приложении;\n",
    "- date_creation - дата создания задачи в формате ГГГГ-ММ-ДД\n",
    "- customer_phone - телефон заказчика\"\"\")"
   ]
  },
  {
   "cell_type": "code",
   "execution_count": null,
   "metadata": {},
   "outputs": [
    {
     "name": "stdout",
     "output_type": "stream",
     "text": [
      "<class 'pandas.core.frame.DataFrame'>\n",
      "Int64Index: 72775 entries, 0 to 72870\n",
      "Data columns (total 8 columns):\n",
      " #   Column                Non-Null Count  Dtype         \n",
      "---  ------                --------------  -----         \n",
      " 0   task_id               72775 non-null  int64         \n",
      " 1   task_name             72775 non-null  object        \n",
      " 2   status                72775 non-null  object        \n",
      " 3   communication_method  72775 non-null  object        \n",
      " 4   date_creation         72775 non-null  datetime64[ns]\n",
      " 5   customer_phone        72775 non-null  object        \n",
      " 6   plathorm              72775 non-null  object        \n",
      " 7   phone                 72775 non-null  object        \n",
      "dtypes: datetime64[ns](1), int64(1), object(6)\n",
      "memory usage: 5.0+ MB\n"
     ]
    },
    {
     "data": {
      "text/html": [
       "<div>\n",
       "<style scoped>\n",
       "    .dataframe tbody tr th:only-of-type {\n",
       "        vertical-align: middle;\n",
       "    }\n",
       "\n",
       "    .dataframe tbody tr th {\n",
       "        vertical-align: top;\n",
       "    }\n",
       "\n",
       "    .dataframe thead th {\n",
       "        text-align: right;\n",
       "    }\n",
       "</style>\n",
       "<table border=\"1\" class=\"dataframe\">\n",
       "  <thead>\n",
       "    <tr style=\"text-align: right;\">\n",
       "      <th></th>\n",
       "      <th>task_id</th>\n",
       "      <th>task_name</th>\n",
       "      <th>status</th>\n",
       "      <th>communication_method</th>\n",
       "      <th>date_creation</th>\n",
       "      <th>customer_phone</th>\n",
       "      <th>plathorm</th>\n",
       "      <th>phone</th>\n",
       "    </tr>\n",
       "  </thead>\n",
       "  <tbody>\n",
       "    <tr>\n",
       "      <th>4363</th>\n",
       "      <td>113018</td>\n",
       "      <td>me puede cotizar porfavor una mudanza de león ...</td>\n",
       "      <td>selection</td>\n",
       "      <td>через телефон</td>\n",
       "      <td>2022-01-24 20:29:19.388354</td>\n",
       "      <td>524774456575</td>\n",
       "      <td>admins</td>\n",
       "      <td>524</td>\n",
       "    </tr>\n",
       "    <tr>\n",
       "      <th>34807</th>\n",
       "      <td>82292</td>\n",
       "      <td>Busco renta de mesas de este tipo con sus sill...</td>\n",
       "      <td>archived</td>\n",
       "      <td>через телефон</td>\n",
       "      <td>2021-11-23 19:58:24.839278</td>\n",
       "      <td>524777000052</td>\n",
       "      <td>admins</td>\n",
       "      <td>524</td>\n",
       "    </tr>\n",
       "  </tbody>\n",
       "</table>\n",
       "</div>"
      ],
      "text/plain": [
       "       task_id                                          task_name     status  \\\n",
       "4363    113018  me puede cotizar porfavor una mudanza de león ...  selection   \n",
       "34807    82292  Busco renta de mesas de este tipo con sus sill...   archived   \n",
       "\n",
       "      communication_method              date_creation customer_phone plathorm  \\\n",
       "4363         через телефон 2022-01-24 20:29:19.388354   524774456575   admins   \n",
       "34807        через телефон 2021-11-23 19:58:24.839278   524777000052   admins   \n",
       "\n",
       "      phone  \n",
       "4363    524  \n",
       "34807   524  "
      ]
     },
     "execution_count": 4,
     "metadata": {},
     "output_type": "execute_result"
    }
   ],
   "source": [
    "# df = pd.read_csv('/Users/arturfattahov/Downloads/task_september_february.csv', sep='|')\n",
    "\n",
    "# df.columns = [\n",
    "#         'task_id',\n",
    "#         'task_name',\n",
    "#         'status',\n",
    "#         'communication_method',\n",
    "#         'date_creation',\n",
    "#         'customer_phone',\n",
    "#         'plathorm'\n",
    "# ]\n",
    "\n",
    "# # изменение типов\n",
    "# df['customer_phone'] = df['customer_phone'].astype(str)\n",
    "# df['task_id'] = df['task_id'].astype(int)\n",
    "# df['date_creation'] = pd.to_datetime(df['date_creation'], format='%Y-%m-%dT%H:%M:%S')\n",
    "\n",
    "# # удвление тестовых номеров, которые начинаются на 520...\n",
    "# df['phone'] = df.customer_phone.str[:3]\n",
    "# df = df[~df.phone.str.contains('520')]\n",
    "\n",
    "# # удаление пропусков, которые появляются из за особенностей выгрузки\n",
    "# df = df.dropna()\n",
    "\n",
    "# df.info()\n",
    "# df.sample(2)"
   ]
  },
  {
   "cell_type": "code",
   "execution_count": null,
   "metadata": {},
   "outputs": [],
   "source": [
    "df = df.sort_values(by=['customer_phone', 'date_creation'])"
   ]
  },
  {
   "cell_type": "code",
   "execution_count": null,
   "metadata": {},
   "outputs": [],
   "source": [
    "df['diff'] = df.groupby('customer_phone')['date_creation'].diff()"
   ]
  },
  {
   "cell_type": "markdown",
   "metadata": {},
   "source": [
    "# Фильтры по платформам"
   ]
  },
  {
   "cell_type": "code",
   "execution_count": null,
   "metadata": {},
   "outputs": [],
   "source": [
    "# df[\"days\"] = df[\"date_creation\"].astype(str).str[0:10]"
   ]
  },
  {
   "cell_type": "code",
   "execution_count": null,
   "metadata": {},
   "outputs": [],
   "source": [
    "# df = df[(df['days'] < '2022-01-28')]"
   ]
  },
  {
   "cell_type": "code",
   "execution_count": null,
   "metadata": {},
   "outputs": [],
   "source": [
    "df_admins = df[df['plathorm'] == 'admins']\n",
    "df_ios = df[df['plathorm'] == 'ios']\n",
    "df_andoid = df[df['plathorm'] == 'android']"
   ]
  },
  {
   "cell_type": "markdown",
   "metadata": {},
   "source": [
    "# Рассчеты"
   ]
  },
  {
   "cell_type": "code",
   "execution_count": null,
   "metadata": {},
   "outputs": [],
   "source": [
    "st.write(\"\"\"# Рассчеты\"\"\")"
   ]
  },
  {
   "cell_type": "code",
   "execution_count": null,
   "metadata": {},
   "outputs": [],
   "source": [
    "st.write(\"\"\"## Admins\"\"\")"
   ]
  },
  {
   "cell_type": "code",
   "execution_count": null,
   "metadata": {},
   "outputs": [],
   "source": [
    "unique_users_admins = df_admins['customer_phone'].nunique()\n",
    "number_tasks_admins = df_admins['task_id'].nunique()\n",
    "\n",
    "st.write(\"Количество пользователей, которые создали хотя бы одну задачу:\", unique_users_admins)\n",
    "st.write(\"Количество созданных задач:\", number_tasks_admins)"
   ]
  },
  {
   "cell_type": "code",
   "execution_count": null,
   "metadata": {},
   "outputs": [],
   "source": [
    "st.write(\"\"\"## iOS\"\"\")"
   ]
  },
  {
   "cell_type": "code",
   "execution_count": null,
   "metadata": {},
   "outputs": [],
   "source": [
    "unique_users_ios = df_ios['customer_phone'].nunique()\n",
    "number_tasks_ios= df_ios['task_id'].nunique()\n",
    "\n",
    "st.write(\"Количество пользователей, которые создали хотя бы одну задачу:\", unique_users_ios)\n",
    "st.write(\"Количество созданных задач:\", number_tasks_ios)"
   ]
  },
  {
   "cell_type": "code",
   "execution_count": null,
   "metadata": {},
   "outputs": [],
   "source": [
    "st.write(\"\"\"## Android\"\"\")"
   ]
  },
  {
   "cell_type": "code",
   "execution_count": null,
   "metadata": {},
   "outputs": [],
   "source": [
    "unique_users_android = df_andoid['customer_phone'].nunique()\n",
    "number_tasks_android = df_andoid['task_id'].nunique()\n",
    "\n",
    "st.write(\"Количество пользователей, которые создали хотя бы одну задачу:\", unique_users_android)\n",
    "st.write(\"Количество созданных задач:\", number_tasks_android)"
   ]
  },
  {
   "cell_type": "code",
   "execution_count": null,
   "metadata": {},
   "outputs": [],
   "source": [
    "st.write(\"\"\"### Распределение пользователей по платформе\"\"\")"
   ]
  },
  {
   "cell_type": "code",
   "execution_count": null,
   "metadata": {},
   "outputs": [],
   "source": [
    "platform_distribution = Counter(df['plathorm'])\n",
    "\n",
    "st.write(\"Количество созданных задач:\", platform_distribution)"
   ]
  },
  {
   "cell_type": "markdown",
   "metadata": {},
   "source": [
    "# Повторные задачи"
   ]
  },
  {
   "cell_type": "code",
   "execution_count": null,
   "metadata": {},
   "outputs": [],
   "source": [
    "st.write(\"\"\"# Повторные задачи\"\"\")"
   ]
  },
  {
   "cell_type": "code",
   "execution_count": null,
   "metadata": {},
   "outputs": [],
   "source": [
    "df = df.loc[df['diff'] > '120 seconds']\n",
    "df_admins_new = df[df['plathorm'] == 'admins']\n",
    "df_ios_new = df[df['plathorm'] == 'ios']\n",
    "df_android_new = df[df['plathorm'] == 'android']"
   ]
  },
  {
   "cell_type": "markdown",
   "metadata": {},
   "source": [
    "## Admins"
   ]
  },
  {
   "cell_type": "code",
   "execution_count": null,
   "metadata": {},
   "outputs": [],
   "source": [
    "st.write(\"\"\"## Admins\"\"\")"
   ]
  },
  {
   "cell_type": "code",
   "execution_count": null,
   "metadata": {},
   "outputs": [],
   "source": [
    "unique_users_new_df_admins = df_admins_new['customer_phone'].nunique()\n",
    "\n",
    "st.write(\"Количество пользователей, которые создали хотя бы одну повторную  задачу:\", unique_users_new_df_admins)\n",
    "st.write('Процент повторных задач в панели администратора: {:.0f}%'\n",
    "        .format(unique_users_new_df_admins * 100 / unique_users_admins))"
   ]
  },
  {
   "cell_type": "markdown",
   "metadata": {},
   "source": [
    "## iOS"
   ]
  },
  {
   "cell_type": "code",
   "execution_count": null,
   "metadata": {},
   "outputs": [],
   "source": [
    "st.write(\"\"\"## iOS\"\"\")"
   ]
  },
  {
   "cell_type": "code",
   "execution_count": null,
   "metadata": {},
   "outputs": [],
   "source": [
    "unique_users_new_df_ios = df_ios_new['customer_phone'].nunique()\n",
    "\n",
    "st.write(\"Количество пользователей, которые создали хотя бы одну повторную  задачу:\", unique_users_new_df_ios)\n",
    "st.write('Процент повторных задач iOS: {:.0f}%'\n",
    "        .format(unique_users_new_df_ios * 100 / unique_users_ios))"
   ]
  },
  {
   "cell_type": "markdown",
   "metadata": {},
   "source": [
    "## Android"
   ]
  },
  {
   "cell_type": "code",
   "execution_count": null,
   "metadata": {},
   "outputs": [],
   "source": [
    "st.write(\"\"\"## Android\"\"\")"
   ]
  },
  {
   "cell_type": "code",
   "execution_count": null,
   "metadata": {},
   "outputs": [],
   "source": [
    "unique_users_new_df_android = df_android_new['customer_phone'].nunique()\n",
    "\n",
    "st.write(\"Количество пользователей, которые создали хотя бы одну повторную  задачу:\", unique_users_new_df_android)\n",
    "st.write('Процент повторных задач iOS: {:.0f}%'\n",
    "        .format(unique_users_new_df_android * 100 / unique_users_android))"
   ]
  },
  {
   "cell_type": "markdown",
   "metadata": {},
   "source": [
    "# Медиана и среднее значение"
   ]
  },
  {
   "cell_type": "code",
   "execution_count": null,
   "metadata": {},
   "outputs": [],
   "source": [
    "st.write(\"\"\"# Медиана и среднее значение\"\"\")"
   ]
  },
  {
   "cell_type": "markdown",
   "metadata": {},
   "source": [
    "## Admins"
   ]
  },
  {
   "cell_type": "code",
   "execution_count": null,
   "metadata": {},
   "outputs": [],
   "source": [
    "st.write(\"\"\"## Admins\"\"\")"
   ]
  },
  {
   "cell_type": "code",
   "execution_count": null,
   "metadata": {},
   "outputs": [],
   "source": [
    "st.write('Среднее повторной задачи Admins', df_admins_new['diff'].mean())\n",
    "st.write('Медиана повторной задачи Admins', df_admins_new['diff'].median())"
   ]
  },
  {
   "cell_type": "markdown",
   "metadata": {},
   "source": [
    "## iOS"
   ]
  },
  {
   "cell_type": "code",
   "execution_count": null,
   "metadata": {},
   "outputs": [],
   "source": [
    "st.write(\"\"\"## iOS\"\"\")"
   ]
  },
  {
   "cell_type": "code",
   "execution_count": null,
   "metadata": {},
   "outputs": [],
   "source": [
    "st.write('Среднее повторной задачи iOS', df_ios_new['diff'].mean())\n",
    "st.write('Медиана повторной задачи iOS', df_ios_new['diff'].median())"
   ]
  },
  {
   "cell_type": "markdown",
   "metadata": {},
   "source": [
    "## Android"
   ]
  },
  {
   "cell_type": "code",
   "execution_count": null,
   "metadata": {},
   "outputs": [],
   "source": [
    "st.write(\"\"\"## Android\"\"\")"
   ]
  },
  {
   "cell_type": "code",
   "execution_count": null,
   "metadata": {},
   "outputs": [],
   "source": [
    "st.write('Среднее повторной задачи Android', df_android_new['diff'].mean())\n",
    "st.write('Медиана повторной задачи Android', df_android_new['diff'].median())"
   ]
  },
  {
   "cell_type": "markdown",
   "metadata": {},
   "source": [
    "# Распределение по дням"
   ]
  },
  {
   "cell_type": "code",
   "execution_count": null,
   "metadata": {},
   "outputs": [],
   "source": [
    "st.write(\"\"\"# Распределение по дням\"\"\")"
   ]
  },
  {
   "cell_type": "code",
   "execution_count": null,
   "metadata": {},
   "outputs": [],
   "source": [
    "def creation_day(day):\n",
    "    if int(day.days) <= 2:\n",
    "        return 'Меньше 2 дней'\n",
    "    elif 3 <= int(day.days) < 5:\n",
    "        return 'От 2 до 5 дней'\n",
    "    elif 5 <= int(day.days) < 10:\n",
    "        return 'От 5 до 10 дней'\n",
    "    elif 10 <= int(day.days) < 20:\n",
    "        return 'От 10 до 20 дней'\n",
    "    elif 20 <= int(day.days) < 50:\n",
    "        return 'От 20 до 50 дней'\n",
    "    else:\n",
    "        return 'Более 50 дней'"
   ]
  },
  {
   "cell_type": "markdown",
   "metadata": {},
   "source": [
    "## Admins"
   ]
  },
  {
   "cell_type": "code",
   "execution_count": null,
   "metadata": {},
   "outputs": [],
   "source": [
    "st.write(\"\"\"# Admins\"\"\")"
   ]
  },
  {
   "cell_type": "code",
   "execution_count": null,
   "metadata": {},
   "outputs": [],
   "source": [
    "st.write('Распределение повторных задач Admins', df_admins_new['diff'].apply(creation_day).value_counts())"
   ]
  },
  {
   "cell_type": "markdown",
   "metadata": {},
   "source": [
    "## iOS"
   ]
  },
  {
   "cell_type": "code",
   "execution_count": null,
   "metadata": {},
   "outputs": [],
   "source": [
    "st.write(\"\"\"# iOS\"\"\")"
   ]
  },
  {
   "cell_type": "code",
   "execution_count": null,
   "metadata": {},
   "outputs": [],
   "source": [
    "st.write('Распределение повторных задач iOS', df_ios_new['diff'].apply(creation_day).value_counts())"
   ]
  },
  {
   "cell_type": "markdown",
   "metadata": {},
   "source": [
    "## Android"
   ]
  },
  {
   "cell_type": "code",
   "execution_count": null,
   "metadata": {},
   "outputs": [],
   "source": [
    "st.write(\"\"\"# Android\"\"\")"
   ]
  },
  {
   "cell_type": "code",
   "execution_count": null,
   "metadata": {},
   "outputs": [],
   "source": [
    "st.write('Распределение повторных задач Android', df_android_new['diff'].apply(creation_day).value_counts())"
   ]
  },
  {
   "cell_type": "code",
   "execution_count": null,
   "metadata": {},
   "outputs": [],
   "source": []
  }
 ],
 "metadata": {
  "interpreter": {
   "hash": "aee8b7b246df8f9039afb4144a1f6fd8d2ca17a180786b69acc140d282b71a49"
  },
  "kernelspec": {
   "display_name": "Python 3.10.4 64-bit",
   "language": "python",
   "name": "python3"
  },
  "language_info": {
   "codemirror_mode": {
    "name": "ipython",
    "version": 3
   },
   "file_extension": ".py",
   "mimetype": "text/x-python",
   "name": "python",
   "nbconvert_exporter": "python",
   "pygments_lexer": "ipython3",
   "version": "3.10.4"
  },
  "orig_nbformat": 4
 },
 "nbformat": 4,
 "nbformat_minor": 2
}
