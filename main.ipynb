{
 "cells": [
  {
   "cell_type": "code",
   "execution_count": 2,
   "metadata": {},
   "outputs": [],
   "source": [
    "import pandas as pd\n",
    "import streamlit as st\n",
    "from collections import Counter"
   ]
  },
  {
   "cell_type": "markdown",
   "metadata": {},
   "source": [
    "# Обзор данных"
   ]
  },
  {
   "cell_type": "code",
   "execution_count": 5,
   "metadata": {},
   "outputs": [],
   "source": [
    "# uploaded_file = st.file_uploader(\"Выбирете файл\", \n",
    "# help=\"Здесь может быть подсказка'\")\n",
    "\n",
    "\n",
    "# if uploaded_file is not None:\n",
    "#      df = pd.read_csv(uploaded_file, sep='|')\n",
    "#      df.columns = [\n",
    "#         'task_id',\n",
    "#         'task_name',\n",
    "#         'status',\n",
    "#         'communication_method',\n",
    "#         'date_creation',\n",
    "#         'customer_phone',\n",
    "#         'plathorm']\n",
    "\n",
    "#      # изменение типов\n",
    "#      df['customer_phone'] = df['customer_phone'].astype(str)\n",
    "#      df['task_id'] = df['task_id'].astype(int)\n",
    "#      df['date_creation'] = pd.to_datetime(df['date_creation'], format='%Y-%m-%dT%H:%M:%S')\n",
    "\n",
    "#      # удвление тестовых номеров, которые начинаются на 520...\n",
    "#      df['phone'] = df.customer_phone.str[:3]\n",
    "#      df = df[~df.phone.str.contains('520')]\n",
    "\n",
    "#      # удаление пропусков, которые появляются из за особенностей выгрузки\n",
    "#      df = df.dropna()\n",
    "#      file_container = st.expander(\"Check your uploaded .csv\")   \n",
    "#      st.write(df)\n",
    "# else:\n",
    "#     st.info(\n",
    "#         f\"\"\"\n",
    "#              👆 Загрузите файл с расширением .csv\n",
    "             \n",
    "#              В файле должны стого содержаться следующие столбцы: id пользователя, id задачи, платформа, роль пользователя\n",
    "#              \"\"\"\n",
    "#     )\n",
    "#     st.stop()"
   ]
  },
  {
   "cell_type": "code",
   "execution_count": 3,
   "metadata": {},
   "outputs": [
    {
     "name": "stderr",
     "output_type": "stream",
     "text": [
      "2022-04-25 12:10:37.818 \n",
      "  \u001b[33m\u001b[1mWarning:\u001b[0m to view this Streamlit app on a browser, run it with the following\n",
      "  command:\n",
      "\n",
      "    streamlit run /Users/arturfattahov/Library/Python/3.10/lib/python/site-packages/ipykernel_launcher.py [ARGUMENTS]\n"
     ]
    }
   ],
   "source": [
    "st.write(\"\"\"\n",
    "**Поля датафрейма:**\n",
    "- task_id - уникальный идентификатор задачи;\n",
    "- task_name - название задачи;\n",
    "- status - текущий статс задачи;\n",
    "- communication_method - выбранный способ связи в приложении;\n",
    "- date_creation - дата создания задачи в формате ГГГГ-ММ-ДД\n",
    "- customer_phone - будет выступать в роли id пользователя\"\"\")"
   ]
  },
  {
   "cell_type": "code",
   "execution_count": 4,
   "metadata": {},
   "outputs": [
    {
     "name": "stdout",
     "output_type": "stream",
     "text": [
      "<class 'pandas.core.frame.DataFrame'>\n",
      "Int64Index: 72775 entries, 0 to 72870\n",
      "Data columns (total 8 columns):\n",
      " #   Column                Non-Null Count  Dtype         \n",
      "---  ------                --------------  -----         \n",
      " 0   task_id               72775 non-null  int64         \n",
      " 1   task_name             72775 non-null  object        \n",
      " 2   status                72775 non-null  object        \n",
      " 3   communication_method  72775 non-null  object        \n",
      " 4   date_creation         72775 non-null  datetime64[ns]\n",
      " 5   customer_phone        72775 non-null  object        \n",
      " 6   plathorm              72775 non-null  object        \n",
      " 7   phone                 72775 non-null  object        \n",
      "dtypes: datetime64[ns](1), int64(1), object(6)\n",
      "memory usage: 5.0+ MB\n"
     ]
    },
    {
     "data": {
      "text/html": [
       "<div>\n",
       "<style scoped>\n",
       "    .dataframe tbody tr th:only-of-type {\n",
       "        vertical-align: middle;\n",
       "    }\n",
       "\n",
       "    .dataframe tbody tr th {\n",
       "        vertical-align: top;\n",
       "    }\n",
       "\n",
       "    .dataframe thead th {\n",
       "        text-align: right;\n",
       "    }\n",
       "</style>\n",
       "<table border=\"1\" class=\"dataframe\">\n",
       "  <thead>\n",
       "    <tr style=\"text-align: right;\">\n",
       "      <th></th>\n",
       "      <th>task_id</th>\n",
       "      <th>task_name</th>\n",
       "      <th>status</th>\n",
       "      <th>communication_method</th>\n",
       "      <th>date_creation</th>\n",
       "      <th>customer_phone</th>\n",
       "      <th>plathorm</th>\n",
       "      <th>phone</th>\n",
       "    </tr>\n",
       "  </thead>\n",
       "  <tbody>\n",
       "    <tr>\n",
       "      <th>4363</th>\n",
       "      <td>113018</td>\n",
       "      <td>me puede cotizar porfavor una mudanza de león ...</td>\n",
       "      <td>selection</td>\n",
       "      <td>через телефон</td>\n",
       "      <td>2022-01-24 20:29:19.388354</td>\n",
       "      <td>524774456575</td>\n",
       "      <td>admins</td>\n",
       "      <td>524</td>\n",
       "    </tr>\n",
       "    <tr>\n",
       "      <th>34807</th>\n",
       "      <td>82292</td>\n",
       "      <td>Busco renta de mesas de este tipo con sus sill...</td>\n",
       "      <td>archived</td>\n",
       "      <td>через телефон</td>\n",
       "      <td>2021-11-23 19:58:24.839278</td>\n",
       "      <td>524777000052</td>\n",
       "      <td>admins</td>\n",
       "      <td>524</td>\n",
       "    </tr>\n",
       "  </tbody>\n",
       "</table>\n",
       "</div>"
      ],
      "text/plain": [
       "       task_id                                          task_name     status  \\\n",
       "4363    113018  me puede cotizar porfavor una mudanza de león ...  selection   \n",
       "34807    82292  Busco renta de mesas de este tipo con sus sill...   archived   \n",
       "\n",
       "      communication_method              date_creation customer_phone plathorm  \\\n",
       "4363         через телефон 2022-01-24 20:29:19.388354   524774456575   admins   \n",
       "34807        через телефон 2021-11-23 19:58:24.839278   524777000052   admins   \n",
       "\n",
       "      phone  \n",
       "4363    524  \n",
       "34807   524  "
      ]
     },
     "execution_count": 4,
     "metadata": {},
     "output_type": "execute_result"
    }
   ],
   "source": [
    "df = pd.read_csv('/Users/arturfattahov/Downloads/task_september_february.csv', sep='|')\n",
    "\n",
    "df.columns = [\n",
    "        'task_id',\n",
    "        'task_name',\n",
    "        'status',\n",
    "        'communication_method',\n",
    "        'date_creation',\n",
    "        'customer_phone',\n",
    "        'plathorm'\n",
    "]\n",
    "\n",
    "# изменение типов\n",
    "df['customer_phone'] = df['customer_phone'].astype(str)\n",
    "df['task_id'] = df['task_id'].astype(int)\n",
    "df['date_creation'] = pd.to_datetime(df['date_creation'], format='%Y-%m-%dT%H:%M:%S')\n",
    "\n",
    "# удвление тестовых номеров, которые начинаются на 520...\n",
    "df['phone'] = df.customer_phone.str[:3]\n",
    "df = df[~df.phone.str.contains('520')]\n",
    "\n",
    "# удаление пропусков, которые появляются из за особенностей выгрузки\n",
    "df = df.dropna()\n",
    "\n",
    "df.info()\n",
    "df.sample(2)"
   ]
  },
  {
   "cell_type": "code",
   "execution_count": 5,
   "metadata": {},
   "outputs": [],
   "source": [
    "df = df.sort_values(by=['customer_phone', 'date_creation'])"
   ]
  },
  {
   "cell_type": "code",
   "execution_count": 6,
   "metadata": {},
   "outputs": [],
   "source": [
    "df['diff'] = df.groupby('customer_phone')['date_creation'].diff()"
   ]
  },
  {
   "cell_type": "markdown",
   "metadata": {},
   "source": [
    "# Фильтры по платформам"
   ]
  },
  {
   "cell_type": "code",
   "execution_count": 7,
   "metadata": {},
   "outputs": [],
   "source": [
    "df[\"days\"] = df[\"date_creation\"].astype(str).str[0:10]"
   ]
  },
  {
   "cell_type": "code",
   "execution_count": 8,
   "metadata": {},
   "outputs": [],
   "source": [
    "df = df[(df['days'] < '2022-01-28')]"
   ]
  },
  {
   "cell_type": "code",
   "execution_count": 9,
   "metadata": {},
   "outputs": [],
   "source": [
    "df_admins = df[df['plathorm'] == 'admins']\n",
    "df_ios = df[df['plathorm'] == 'ios']\n",
    "df_andoid = df[df['plathorm'] == 'android']"
   ]
  },
  {
   "cell_type": "markdown",
   "metadata": {},
   "source": [
    "# Рассчеты"
   ]
  },
  {
   "cell_type": "code",
   "execution_count": 10,
   "metadata": {},
   "outputs": [],
   "source": [
    "st.write(\"\"\"\n",
    "# Рассчеты\n",
    "\"\"\")"
   ]
  },
  {
   "cell_type": "code",
   "execution_count": 11,
   "metadata": {},
   "outputs": [],
   "source": [
    "st.write(\"\"\"\n",
    "# Admins\n",
    "\"\"\")"
   ]
  },
  {
   "cell_type": "code",
   "execution_count": 12,
   "metadata": {},
   "outputs": [],
   "source": [
    "unique_users_admins = df_admins['customer_phone'].nunique()\n",
    "number_tasks_admins = df_admins['task_id'].nunique()\n",
    "\n",
    "st.write(\"Количество пользователей, которые создали хотя бы одну задачу:\", unique_users_admins)\n",
    "st.write(\"Количество созданных задач:\", number_tasks_admins)"
   ]
  },
  {
   "cell_type": "code",
   "execution_count": null,
   "metadata": {},
   "outputs": [],
   "source": []
  }
 ],
 "metadata": {
  "interpreter": {
   "hash": "aee8b7b246df8f9039afb4144a1f6fd8d2ca17a180786b69acc140d282b71a49"
  },
  "kernelspec": {
   "display_name": "Python 3.10.4 64-bit",
   "language": "python",
   "name": "python3"
  },
  "language_info": {
   "codemirror_mode": {
    "name": "ipython",
    "version": 3
   },
   "file_extension": ".py",
   "mimetype": "text/x-python",
   "name": "python",
   "nbconvert_exporter": "python",
   "pygments_lexer": "ipython3",
   "version": "3.10.4"
  },
  "orig_nbformat": 4
 },
 "nbformat": 4,
 "nbformat_minor": 2
}
